{
 "cells": [
  {
   "cell_type": "markdown",
   "id": "156a0012-ca6b-44d6-9e8b-604c97a9a926",
   "metadata": {},
   "source": [
    "# Data Science Tools and Ecosystem"
   ]
  },
  {
   "cell_type": "markdown",
   "id": "2be1fc48-c058-40c7-be01-e2c14be1f2b0",
   "metadata": {},
   "source": [
    "En este cuaderno se resumen las herramientas y el ecosistema de ciencia de datos."
   ]
  },
  {
   "cell_type": "markdown",
   "id": "3073eba2-571e-4940-bb78-cb9855e65f14",
   "metadata": {},
   "source": [
    "**Objetivos:**\n",
    "\n",
    "- Enumerar los lenguajes populares para la Ciencia de Datos.\n",
    "- Identificar las bibliotecas comúnmente utilizadas en la Ciencia de Datos.\n",
    "- Explicar el papel de Jupyter Notebook en la Ciencia de Datos.\n"
   ]
  },
  {
   "cell_type": "markdown",
   "id": "fe21ab88-33a3-4744-9ddf-b639d7d7d037",
   "metadata": {},
   "source": [
    "Algunos de los lenguajes populares que utilizan los científicos de datos son:"
   ]
  },
  {
   "cell_type": "markdown",
   "id": "d3a5eab1-efea-46e1-b18d-9b5b626c43a1",
   "metadata": {},
   "source": [
    "1. Python\n",
    "2. R\n",
    "3. SQL"
   ]
  },
  {
   "cell_type": "markdown",
   "id": "0fcf6afb-7f44-464b-a6e2-a6cf6f28376d",
   "metadata": {},
   "source": [
    "Algunas de las bibliotecas comúnmente utilizadas por los científicos de datos incluyen:"
   ]
  },
  {
   "cell_type": "markdown",
   "id": "a7cb40f7-ec1f-4649-b8cd-c558029b8af2",
   "metadata": {},
   "source": [
    "1. Numpy\n",
    "2. Pandas\n",
    "3. Matplotlib"
   ]
  },
  {
   "cell_type": "markdown",
   "id": "8babada5-771a-4ced-95db-b2f6f729178a",
   "metadata": {},
   "source": [
    "| Data Science Tools      |\n",
    "|-------------------------|\n",
    "| Jupyter Notebook        |\n",
    "| RStudio                 |\n",
    "| Apache Zeppelin         |"
   ]
  },
  {
   "cell_type": "markdown",
   "id": "2207d625-5ca9-4b67-8434-a1c1e147891d",
   "metadata": {},
   "source": [
    "### A continuación se muestran algunos ejemplos de evaluación de expresiones aritméticas en Python."
   ]
  },
  {
   "cell_type": "code",
   "execution_count": 7,
   "id": "4fb561c4-3313-471c-bb9d-ae3d58fc57e0",
   "metadata": {},
   "outputs": [
    {
     "data": {
      "text/plain": [
       "17"
      ]
     },
     "execution_count": 7,
     "metadata": {},
     "output_type": "execute_result"
    }
   ],
   "source": [
    "# Esta es una expresión aritmética simple para multiplicar y luego sumar números enteros.\n",
    "\n",
    "(3*4)+5"
   ]
  },
  {
   "cell_type": "code",
   "execution_count": 17,
   "id": "5a8e74f8-749c-4677-b3d4-04bf018039ad",
   "metadata": {},
   "outputs": [
    {
     "name": "stdout",
     "output_type": "stream",
     "text": [
      "200 minutos son 3.3333333333333335 horas\n"
     ]
    }
   ],
   "source": [
    "# Esto convertirá 200 minutos en horas dividiendo en 60\n",
    "minutos= 200\n",
    "horas=minutos/60\n",
    "print(\"200 minutos son\", horas, \"horas\")"
   ]
  },
  {
   "cell_type": "markdown",
   "id": "5a840acd-63bf-4855-986d-78bfea2715f5",
   "metadata": {},
   "source": [
    "## Autor\n",
    "\n",
    "Joaquín Collao\n"
   ]
  },
  {
   "cell_type": "code",
   "execution_count": null,
   "id": "2dbb85a1-778a-4d7a-b68e-1b027433b876",
   "metadata": {},
   "outputs": [],
   "source": []
  }
 ],
 "metadata": {
  "kernelspec": {
   "display_name": "Python 3 (ipykernel)",
   "language": "python",
   "name": "python3"
  },
  "language_info": {
   "codemirror_mode": {
    "name": "ipython",
    "version": 3
   },
   "file_extension": ".py",
   "mimetype": "text/x-python",
   "name": "python",
   "nbconvert_exporter": "python",
   "pygments_lexer": "ipython3",
   "version": "3.11.9"
  }
 },
 "nbformat": 4,
 "nbformat_minor": 5
}
